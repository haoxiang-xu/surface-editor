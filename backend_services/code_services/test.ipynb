{
 "cells": [
  {
   "cell_type": "code",
   "execution_count": 2,
   "metadata": {},
   "outputs": [],
   "source": [
    "# Load model directly\n",
    "from transformers import AutoTokenizer, AutoModelForCausalLM\n",
    "from transformers import pipeline\n",
    "import torch"
   ]
  },
  {
   "cell_type": "markdown",
   "metadata": {},
   "source": [
    "### CodeLlama 7B"
   ]
  },
  {
   "cell_type": "code",
   "execution_count": 3,
   "metadata": {},
   "outputs": [
    {
     "name": "stderr",
     "output_type": "stream",
     "text": [
      "Loading checkpoint shards: 100%|██████████| 2/2 [00:07<00:00,  3.70s/it]\n"
     ]
    }
   ],
   "source": [
    "tokenizer = AutoTokenizer.from_pretrained(\"codellama/CodeLlama-7b-hf\", cache_dir=\"./models\")\n",
    "model = AutoModelForCausalLM.from_pretrained(\"codellama/CodeLlama-7b-hf\", cache_dir=\"./models\")"
   ]
  },
  {
   "cell_type": "code",
   "execution_count": 4,
   "metadata": {},
   "outputs": [],
   "source": [
    "from transformers import pipeline\n",
    "import torch\n",
    "\n",
    "code_continuator = pipeline('text-generation',\n",
    "                            model=model,\n",
    "                            tokenizer=tokenizer,\n",
    "                            torch_dtype=torch.float16,\n",
    "                            config={\"temperature\": 0.2},\n",
    "                            device=0\n",
    "                            )"
   ]
  },
  {
   "cell_type": "code",
   "execution_count": 18,
   "metadata": {},
   "outputs": [],
   "source": [
    "def continue_code(prompt):\n",
    "    sequences = code_continuator(\n",
    "        prompt,\n",
    "        do_sample=True,\n",
    "        temperature=0.1,\n",
    "        top_p=0.9,\n",
    "        num_return_sequences=1,\n",
    "        eos_token_id=tokenizer.eos_token_id,\n",
    "        max_length=128,\n",
    "    )\n",
    "    for seq in sequences:\n",
    "        print(f\"Result: {seq['generated_text']}\")\n",
    "        \n",
    "def generate_code(prompt):\n",
    "    prompt = \"requirements: \" + prompt + \"\\n code: \"\n",
    "    \n",
    "    sequences = code_continuator(\n",
    "        prompt,\n",
    "        do_sample=True,\n",
    "        temperature=0.1,\n",
    "        top_p=0.9,\n",
    "        num_return_sequences=1,\n",
    "        eos_token_id=tokenizer.eos_token_id,\n",
    "        max_length=128,\n",
    "    )\n",
    "    for seq in sequences:\n",
    "        print(f\"Result: {seq['generated_text']}\")\n",
    "        \n",
    "def generate_code2(prompt):\n",
    "    prompt = \"#\" + prompt\n",
    "    \n",
    "    sequences = code_continuator(\n",
    "        prompt,\n",
    "        do_sample=True,\n",
    "        temperature=0.1,\n",
    "        top_p=0.9,\n",
    "        num_return_sequences=1,\n",
    "        eos_token_id=tokenizer.eos_token_id,\n",
    "        max_length=128,\n",
    "    )\n",
    "    for seq in sequences:\n",
    "        print(f\"Result: {seq['generated_text']}\")\n",
    "        \n",
    "def summarize_code(prompt):\n",
    "    prompt = \"code: \" + prompt + \"\\n summarization: \"\n",
    "    \n",
    "    sequences = code_continuator(\n",
    "        prompt,\n",
    "        do_sample=True,\n",
    "        temperature=0.1,\n",
    "        top_p=0.9,\n",
    "        num_return_sequences=1,\n",
    "        eos_token_id=tokenizer.eos_token_id,\n",
    "        max_length=128,\n",
    "    )\n",
    "    for seq in sequences:\n",
    "        print(f\"Result: {seq['generated_text']}\")"
   ]
  },
  {
   "cell_type": "code",
   "execution_count": 19,
   "metadata": {},
   "outputs": [
    {
     "name": "stderr",
     "output_type": "stream",
     "text": [
      "Setting `pad_token_id` to `eos_token_id`:2 for open-end generation.\n"
     ]
    },
    {
     "name": "stdout",
     "output_type": "stream",
     "text": [
      "Result: def primes(n):\n",
      "    \"\"\"\n",
      "    Returns a list of the first n prime numbers.\n",
      "    \"\"\"\n",
      "    primes = []\n",
      "    for i in range(2, n + 1):\n",
      "        if is_prime(i):\n",
      "            primes.append(i)\n",
      "    return primes\n",
      "\n",
      "\n",
      "def is_prime(n):\n",
      "    \"\"\"\n",
      "    Returns True if n is prime, False otherwise.\n",
      "    \"\"\"\n",
      "    if n == 2:\n",
      "        return True\n",
      "    if n % 2 == 0:\n",
      "        return False\n",
      "    for i in range\n"
     ]
    }
   ],
   "source": [
    "continue_code(\"def primes(n):\")"
   ]
  },
  {
   "cell_type": "code",
   "execution_count": 7,
   "metadata": {},
   "outputs": [
    {
     "name": "stderr",
     "output_type": "stream",
     "text": [
      "Setting `pad_token_id` to `eos_token_id`:2 for open-end generation.\n"
     ]
    },
    {
     "name": "stdout",
     "output_type": "stream",
     "text": [
      "Result: requirements: gives a python function that generate prime numbers under 100/n code: \n",
      "\n",
      "```python\n",
      "def generate_prime_numbers(n):\n",
      "    def is_prime(num):\n",
      "        for i in range(2, num):\n",
      "            if num % i == 0:\n"
     ]
    }
   ],
   "source": [
    "generate_code(\"gives a python function that generate prime numbers under 100\")"
   ]
  },
  {
   "cell_type": "code",
   "execution_count": 17,
   "metadata": {},
   "outputs": [
    {
     "name": "stderr",
     "output_type": "stream",
     "text": [
      "Setting `pad_token_id` to `eos_token_id`:2 for open-end generation.\n"
     ]
    },
    {
     "name": "stdout",
     "output_type": "stream",
     "text": [
      "Result: #gives a python function that generate prime numbers under 1000\n",
      "\n",
      "def is_prime(n):\n",
      "    if n < 2:\n",
      "        return False\n",
      "    if n == 2:\n",
      "        return True\n",
      "    if n % 2 == 0:\n",
      "        return False\n"
     ]
    }
   ],
   "source": [
    "generate_code2(\"gives a python function that generate prime numbers under 100\")"
   ]
  },
  {
   "cell_type": "code",
   "execution_count": null,
   "metadata": {},
   "outputs": [],
   "source": [
    "summarize_code(\"\"\"\n",
    "               \n",
    "\"\"\")"
   ]
  },
  {
   "cell_type": "markdown",
   "metadata": {},
   "source": [
    "### GPT2"
   ]
  },
  {
   "cell_type": "code",
   "execution_count": 3,
   "metadata": {},
   "outputs": [],
   "source": [
    "tokenizer = AutoTokenizer.from_pretrained(\"gpt2\", cache_dir=\"./models\")\n",
    "model = AutoModelForCausalLM.from_pretrained(\"gpt2\", cache_dir=\"./models\")"
   ]
  },
  {
   "cell_type": "code",
   "execution_count": 4,
   "metadata": {},
   "outputs": [],
   "source": [
    "generator = pipeline('text-generation', model=model, tokenizer=tokenizer)"
   ]
  },
  {
   "cell_type": "code",
   "execution_count": 5,
   "metadata": {},
   "outputs": [
    {
     "name": "stderr",
     "output_type": "stream",
     "text": [
      "Setting `pad_token_id` to `eos_token_id`:50256 for open-end generation.\n"
     ]
    },
    {
     "data": {
      "text/plain": [
       "[{'generated_text': 'requirements: give me a python function that prints all prime numbers under 100 \\n code:'}]"
      ]
     },
     "execution_count": 5,
     "metadata": {},
     "output_type": "execute_result"
    }
   ],
   "source": [
    "generator(\"requirements: give me a python function that prints all prime numbers under 100 \\n code:\", max_length=64, num_return_sequences=1)"
   ]
  },
  {
   "cell_type": "markdown",
   "metadata": {},
   "source": [
    "### Classification GPT2 Demo"
   ]
  },
  {
   "cell_type": "code",
   "execution_count": 6,
   "metadata": {},
   "outputs": [],
   "source": [
    "import torch\n",
    "from transformers import GPT2Model, GPT2Config, GPT2Tokenizer\n",
    "from torch.nn import Linear, Sigmoid"
   ]
  },
  {
   "cell_type": "code",
   "execution_count": 8,
   "metadata": {},
   "outputs": [],
   "source": [
    "model_name = 'gpt2'\n",
    "local_cache_dir = \"./models\"\n",
    "\n",
    "tokenizer = GPT2Tokenizer.from_pretrained(model_name, cache_dir=local_cache_dir)\n",
    "config = GPT2Config.from_pretrained(model_name, cache_dir=local_cache_dir)\n",
    "model = GPT2Model.from_pretrained(model_name, config=config, cache_dir=local_cache_dir)"
   ]
  },
  {
   "cell_type": "code",
   "execution_count": 9,
   "metadata": {},
   "outputs": [],
   "source": [
    "class GPT2ForClassification(torch.nn.Module):\n",
    "    def __init__(self, model, num_labels=2):\n",
    "        super(GPT2ForClassification, self).__init__()\n",
    "        self.gpt2 = model\n",
    "        self.classifier = Linear(config.n_embd, num_labels)\n",
    "\n",
    "    def forward(self, input_ids, attention_mask=None):\n",
    "        outputs = self.gpt2(input_ids=input_ids, attention_mask=attention_mask)\n",
    "        hidden_states = outputs.last_hidden_state[:, -1, :]\n",
    "        logits = self.classifier(hidden_states)\n",
    "        return logits"
   ]
  },
  {
   "cell_type": "code",
   "execution_count": 10,
   "metadata": {},
   "outputs": [
    {
     "name": "stdout",
     "output_type": "stream",
     "text": [
      "tensor([[0.0473, 0.0005]], grad_fn=<SigmoidBackward0>)\n"
     ]
    }
   ],
   "source": [
    "classification_model = GPT2ForClassification(model)\n",
    "\n",
    "input_text = \"This is a sample text for classification.\"\n",
    "inputs = tokenizer(input_text, return_tensors=\"pt\")\n",
    "logits = classification_model(**inputs)\n",
    "\n",
    "sigmoid = Sigmoid()\n",
    "probs = sigmoid(logits)\n",
    "\n",
    "print(probs)"
   ]
  }
 ],
 "metadata": {
  "kernelspec": {
   "display_name": ".venv",
   "language": "python",
   "name": "python3"
  },
  "language_info": {
   "codemirror_mode": {
    "name": "ipython",
    "version": 3
   },
   "file_extension": ".py",
   "mimetype": "text/x-python",
   "name": "python",
   "nbconvert_exporter": "python",
   "pygments_lexer": "ipython3",
   "version": "3.11.3"
  },
  "orig_nbformat": 4
 },
 "nbformat": 4,
 "nbformat_minor": 2
}
